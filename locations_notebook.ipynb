{
 "cells": [
  {
   "cell_type": "code",
   "execution_count": 20,
   "metadata": {},
   "outputs": [],
   "source": [
    "from bs4 import BeautifulSoup\n",
    "import requests\n",
    "import pandas as pd\n",
    "\n",
    "source = requests.get('https://en.wikipedia.org/wiki/List_of_postal_codes_of_Canada:_M').text\n",
    "soup = BeautifulSoup(source, 'lxml')\n",
    "table_body = soup.find('tbody')\n",
    "\n",
    "column_names = ['PostalCode', 'Borough', 'Neighborhood', 'Latitude', 'Longitude']\n",
    "data_frame = pd.DataFrame(columns=column_names)\n",
    "\n",
    "for single_row in table_body.find_all('tr'):\n",
    "    cols = single_row.find_all('td')\n",
    "    if len(cols) > 0:\n",
    "        postal_code = cols[0].text\n",
    "        borough = cols[1].text\n",
    "        neighborhood = cols[2].text.replace('\\n','')\n",
    "        \n",
    "        if not borough == 'Not assigned': \n",
    "            if neighborhood == 'Not assigned':\n",
    "                neighborhood = borough\n",
    "            \n",
    "            is_repeated = False\n",
    "            \n",
    "            for index, row in data_frame.iterrows():\n",
    "                if row[0] == postal_code:\n",
    "                    is_repeated = True\n",
    "                    data_frame.loc[index]['Neighborhood'] = data_frame.loc[index]['Neighborhood'] + ', ' + neighborhood\n",
    "            if not is_repeated:\n",
    "                data_frame = data_frame.append({'PostalCode': postal_code,\n",
    "                                                'Borough': borough,\n",
    "                                                'Neighborhood': neighborhood}, ignore_index=True)"
   ]
  },
  {
   "cell_type": "markdown",
   "metadata": {},
   "source": [
    "<H2> Geocoder not returning values <H2>"
   ]
  },
  {
   "cell_type": "code",
   "execution_count": null,
   "metadata": {},
   "outputs": [],
   "source": [
    "import geocoder\n",
    "\n",
    "for index, row in data_frame.iterrows():\n",
    "    postal_code = row['PostalCode']\n",
    "    lat_lng_coords = None\n",
    "    while(lat_lng_coords is None):\n",
    "        g = geocoder.google('{}, Toronto, Ontario'.format(postal_code))\n",
    "        lat_lng_coords = g.latlng\n",
    "    latitude = lat_lng_coords[0]\n",
    "    longitude = lat_lng_coords[1]\n",
    "    data_frame.loc[index]['Latitude'] = latitude\n",
    "    data_frame.loc[index]['Longitude'] = longitude\n"
   ]
  },
  {
   "cell_type": "markdown",
   "metadata": {},
   "source": [
    "<H2> Retrieving LL Values from Text File Provided </H2>"
   ]
  },
  {
   "cell_type": "code",
   "execution_count": 36,
   "metadata": {},
   "outputs": [
    {
     "name": "stdout",
     "output_type": "stream",
     "text": [
      "  PostalCode           Borough                      Neighborhood Latitude  \\\n",
      "0        M3A        North York                         Parkwoods  43.7533   \n",
      "1        M4A        North York                  Victoria Village  43.7259   \n",
      "2        M5A  Downtown Toronto         Harbourfront, Regent Park  43.6543   \n",
      "3        M6A        North York  Lawrence Heights, Lawrence Manor  43.7185   \n",
      "4        M7A      Queen's Park                      Queen's Park  43.6623   \n",
      "\n",
      "  Longitude  \n",
      "0  -79.3297  \n",
      "1  -79.3156  \n",
      "2  -79.3606  \n",
      "3  -79.4648  \n",
      "4  -79.3895  \n"
     ]
    }
   ],
   "source": [
    "pd.options.mode.chained_assignment = None \n",
    "ll_data = pd.read_csv(\"Geospatial_Coordinates.csv\")\n",
    "\n",
    "for index, row in data_frame.iterrows():\n",
    "    postal_code = row['PostalCode']\n",
    "    ll_row = ll_data.loc[ll_data['Postal Code'] == postal_code]\n",
    "\n",
    "    data_frame.loc[index]['Latitude'] = float(ll_row['Latitude'])\n",
    "    data_frame.loc[index]['Longitude'] = float(ll_row['Longitude'])\n",
    "    \n",
    "    \n",
    "print(data_frame.head())\n"
   ]
  },
  {
   "cell_type": "code",
   "execution_count": null,
   "metadata": {},
   "outputs": [],
   "source": []
  }
 ],
 "metadata": {
  "kernelspec": {
   "display_name": "Python 3",
   "language": "python",
   "name": "python3"
  },
  "language_info": {
   "codemirror_mode": {
    "name": "ipython",
    "version": 3
   },
   "file_extension": ".py",
   "mimetype": "text/x-python",
   "name": "python",
   "nbconvert_exporter": "python",
   "pygments_lexer": "ipython3",
   "version": "3.6.8"
  }
 },
 "nbformat": 4,
 "nbformat_minor": 2
}
